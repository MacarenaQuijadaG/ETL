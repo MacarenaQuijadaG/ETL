{
  "nbformat": 4,
  "nbformat_minor": 0,
  "metadata": {
    "colab": {
      "provenance": [],
      "authorship_tag": "ABX9TyPc8iG1s3Ar+WdvA52TWG4u",
      "include_colab_link": true
    },
    "kernelspec": {
      "name": "python3",
      "display_name": "Python 3"
    },
    "language_info": {
      "name": "python"
    }
  },
  "cells": [
    {
      "cell_type": "markdown",
      "metadata": {
        "id": "view-in-github",
        "colab_type": "text"
      },
      "source": [
        "<a href=\"https://colab.research.google.com/github/MacarenaQuijadaG/ETL/blob/main/Pandas2.ipynb\" target=\"_parent\"><img src=\"https://colab.research.google.com/assets/colab-badge.svg\" alt=\"Open In Colab\"/></a>"
      ]
    },
    {
      "cell_type": "markdown",
      "source": [
        "# **Alura - Leyendo archivos CSV**"
      ],
      "metadata": {
        "id": "vkp_v5-8itHc"
      }
    },
    {
      "cell_type": "markdown",
      "source": [
        "### Importando Archivos CSV"
      ],
      "metadata": {
        "id": "Aq9RG5Zkiy6b"
      }
    },
    {
      "cell_type": "code",
      "execution_count": null,
      "metadata": {
        "id": "sRE2AgZOiY82"
      },
      "outputs": [],
      "source": []
    }
  ]
}