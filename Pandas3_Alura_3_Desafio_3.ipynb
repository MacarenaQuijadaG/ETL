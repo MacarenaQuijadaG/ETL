{
  "nbformat": 4,
  "nbformat_minor": 0,
  "metadata": {
    "colab": {
      "provenance": [],
      "authorship_tag": "ABX9TyOsznbpCrpkBLwGzcxhtxwu",
      "include_colab_link": true
    },
    "kernelspec": {
      "name": "python3",
      "display_name": "Python 3"
    },
    "language_info": {
      "name": "python"
    }
  },
  "cells": [
    {
      "cell_type": "markdown",
      "metadata": {
        "id": "view-in-github",
        "colab_type": "text"
      },
      "source": [
        "<a href=\"https://colab.research.google.com/github/MacarenaQuijadaG/ETL/blob/main/Pandas3_Alura_3_Desafio_3.ipynb\" target=\"_parent\"><img src=\"https://colab.research.google.com/assets/colab-badge.svg\" alt=\"Open In Colab\"/></a>"
      ]
    },
    {
      "cell_type": "markdown",
      "source": [
        "\n",
        "# **Desafío: trabajando en otros contextos**\n",
        "\n",
        "Pongamos nuevamente en práctica todo lo que aprendimos durante la clase. He puesto los 2 nuevos conjuntos de datos disponibles para descargar a continuación:\n",
        "\n",
        "**Proyecto Desafío 1: Ventas Online - dados_vendas_clientes.json;**\n",
        "**Proyecto Desafío 2: Administración de Condominios - dados_locacao_imoveis.json.**\n",
        "\n",
        "Recuerda: Hay dos proyectos de tratamiento que se construirán durante el curso. Así que guarde su código de construcción para cada desafío para poder aplicarlo a desafíos posteriores.\n",
        "\n",
        "Etapa 3\n",
        "\n",
        "Proyecto Desafío 1: Ventas Online\n",
        "En el paso 2, trabajamos en la transformación de datos numéricos. Ahora podemos trabajar con valores textuales.\n",
        "\n",
        "Debido a una inestabilidad en el sitio web de la empresa, tuvimos problemas con los nombres de los clientes durante el guardado. Esto resultó en una columna de nombres de clientes con una combinación de letras, mayúsculas y minúsculas, números y otros caracteres.\n",
        "\n",
        "Sabiendo esto, manipula los textos de la columna Cliente para que el resultado sean los nombres de los clientes en letras minúsculas, con ausencia de caracteres especiales o números.\n",
        "\n",
        "Proyecto Desafío 2: Administración de Condominios\n",
        "En el paso 2, trabajamos en transformar los datos numéricos. Ahora podemos trabajar con valores textuales.\n",
        "\n",
        "Buscando explicar la organización de la identificación de los apartamentos, durante la creación del conjunto de datos se añadió el texto (blocoAP). Este texto informa que los nombres de los apartamentos están organizados con la letra mayúscula seguida del número del apartamento. Sin embargo, esto no aporta ninguna información a nuestros datos, por lo que resulta interesante eliminar este texto del conjunto de datos.\n",
        "\n",
        "Con esto, manipule los textos de la columna apartamento para eliminar el texto (blocoAP) del DataFrame.\n",
        "\n"
      ],
      "metadata": {
        "id": "UigeNLxjvaez"
      }
    },
    {
      "cell_type": "markdown",
      "source": [
        "**Desafio 1**"
      ],
      "metadata": {
        "id": "78pIGF5xviz9"
      }
    },
    {
      "cell_type": "code",
      "source": [
        "# Transformar los textos de Cliente para texto en minúscula\n",
        "datos['Cliente'] = datos['Cliente'].str.lower()\n",
        "# Verificar el resultado\n",
        "datos.head()\n",
        "\n",
        "# Opción de substitución - necesario verificar el resultado de la substitución\n",
        "# Regex no selecciona todas las letras de a-z y espacios en blanco ' '\n",
        "# Todo que satisface el regex es borrado\n",
        "datos['Cliente'].str.replace('[^a-z ]', '', regex=True)\n",
        "\n",
        "# Realizar la substitución de los datos en la columna textual\n",
        "datos['Cliente'] = datos['Cliente'].str.replace('[^a-z ]', '', regex=True).str.strip()\n",
        "# Visualizar el resultado final\n",
        "datos.head()"
      ],
      "metadata": {
        "id": "oCgC-ef9vlrB"
      },
      "execution_count": null,
      "outputs": []
    },
    {
      "cell_type": "markdown",
      "source": [
        "**Desafio 2**"
      ],
      "metadata": {
        "id": "GC3P-sFJvmfU"
      }
    },
    {
      "cell_type": "code",
      "source": [
        "# Opción de substitución - necesario verificar el resultado de la substitución\n",
        "# Fue necesario adicionar la barra '\\' para ser considerados los paréntesis como caracteres literales\n",
        "datos['apartamento'].str.replace(' \\(blocoAP\\)', '')\n",
        "\n",
        "# Realizar la substitución de los datos en la columna textual\n",
        "datos['apartamento'] = datos['apartamento'].str.replace(' \\(blocoAP\\)', '')\n",
        "# Visualizar el resultado final\n",
        "datos"
      ],
      "metadata": {
        "id": "ndZkPUIOvoMK"
      },
      "execution_count": null,
      "outputs": []
    }
  ]
}