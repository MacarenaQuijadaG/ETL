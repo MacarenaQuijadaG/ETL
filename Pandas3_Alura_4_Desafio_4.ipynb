{
  "nbformat": 4,
  "nbformat_minor": 0,
  "metadata": {
    "colab": {
      "provenance": [],
      "authorship_tag": "ABX9TyMHYdGrQqdpDbB9tQbIu4Ci",
      "include_colab_link": true
    },
    "kernelspec": {
      "name": "python3",
      "display_name": "Python 3"
    },
    "language_info": {
      "name": "python"
    }
  },
  "cells": [
    {
      "cell_type": "markdown",
      "metadata": {
        "id": "view-in-github",
        "colab_type": "text"
      },
      "source": [
        "<a href=\"https://colab.research.google.com/github/MacarenaQuijadaG/ETL/blob/main/Pandas3_Alura_4_Desafio_4.ipynb\" target=\"_parent\"><img src=\"https://colab.research.google.com/assets/colab-badge.svg\" alt=\"Open In Colab\"/></a>"
      ]
    },
    {
      "cell_type": "markdown",
      "source": [
        "# **Desafío: trabajando en otros contextos**\n",
        "\n",
        "Pongamos nuevamente en práctica todo lo que aprendimos durante la clase. He puesto los 2 nuevos conjuntos de datos disponibles para descargar a continuación:\n",
        "\n",
        "**Proyecto Desafío 1: Ventas Online - dados_vendas_clientes.json;**\n",
        "**Proyecto Desafío 2: Administración de Condominios - dados_locacao_imoveis.json.**\n",
        "\n",
        "Recuerda: Estos dos proyectos de tratamiento se construyeron durante el curso. Por lo tanto, considere desarrollos previos para realizar este paso final.\n",
        "\n",
        "Etapa 4\n",
        "\n",
        "Proyecto Desafío 1: Ventas Online\n",
        "En los pasos anteriores ya hemos trabajado con varios tipos de datos, ahora podemos trabajar con datos de tiempo.\n",
        "\n",
        "En la columna Fecha de venta tenemos fechas en el formato 'día/mes/año' (dd/mm/AAAA). Transforme estos datos al tipo datetime y busque una forma de visualización de subconjunto que pueda contribuir al objetivo del contexto en el que se insertan los datos.\n",
        "\n",
        "Si no recuerdas el problema del Proyecto Desafío 1, te dejo el texto de la situación a continuación para que sea más fácil encontrar la información:\n",
        "\n",
        "El objetivo de este proyecto es analizar los resultados de un evento con los clientes de una empresa de venta online. Se recopiló un conjunto de datos que contiene los clientes que gastaron más en productos dentro de los 5 días posteriores a la venta, que es la duración del evento. Este análisis identificará al cliente con la mayor compra esa semana, quien recibirá un premio de la tienda, y posteriormente, puede ayudar a la empresa a crear nuevas estrategias para atraer más clientes.\n",
        "Copia el código\n",
        "Proyecto Desafío 2: Administración de Condominios\n",
        "Al igual que en el Proyecto Desafío 1, trabajamos con todas las columnas excepto las que involucran fechas.\n",
        "\n",
        "En las columnas datas_de_pagamento y datas_combinadas_pagamento tenemos fechas en el formato 'día/mes/año' (dd/mm/AAAA). Transforme estos datos al tipo datetime y busque una forma de visualización de subconjunto que pueda contribuir al objetivo del contexto en el que se insertan los datos."
      ],
      "metadata": {
        "id": "CzCIZb3TwUel"
      }
    },
    {
      "cell_type": "markdown",
      "source": [
        "**Desafio 1**"
      ],
      "metadata": {
        "id": "dDRuI6WVweeh"
      }
    },
    {
      "cell_type": "code",
      "execution_count": null,
      "metadata": {
        "id": "LFXNQWtkwTiO"
      },
      "outputs": [],
      "source": [
        "# Transformar para el tipo datetime definiendo el formato de fecha como DD/MM/AAAA ('%d/%m/%Y')\n",
        "datos['Data de venda'] = pd.to_datetime(datos['Data de venda'], format='%d/%m/%Y')\n",
        "# Visualizar el resultado\n",
        "datos\n",
        "\n",
        "# Verificar el resultado de la transformación\n",
        "datos.info()\n",
        "\n",
        "# Calcular el total recaudado en compras por cada cliente\n",
        "total_compras = datos.groupby(['Cliente'])['Valor da compra'].sum()\n",
        "# Visualizar el resultado\n",
        "total_compras"
      ]
    },
    {
      "cell_type": "markdown",
      "source": [
        "**Desafio 2**"
      ],
      "metadata": {
        "id": "RquFmRLpwioy"
      }
    },
    {
      "cell_type": "code",
      "source": [
        "# Transformar para el tipo datetime definiendo el formato de fecha como DD/MM/AAAA ('%d/%m/%Y')\n",
        "datos['datas_combinadas_pagamento'] = pd.to_datetime(datos['datas_combinadas_pagamento'], format='%d/%m/%Y')\n",
        "datos['datas_de_pagamento'] = pd.to_datetime(datos['datas_de_pagamento'], format='%d/%m/%Y')\n",
        "\n",
        "# Visualizar el resultado\n",
        "datos\n",
        "\n",
        "# Para contribuir en la solución del contexto es posible calcular la diferencia de días\n",
        "# entre la fecha combinada y la fecha de pagamento con dt.days\n",
        "datos['atraso'] = (datos['datas_de_pagamento'] - datos['datas_combinadas_pagamento']).dt.days\n",
        "\n",
        "# Observar el nuevo DataFrame\n",
        "datos\n",
        "\n",
        "# Calcular el promedio de tiempo de atraso por apartamentos\n",
        "media_atraso = datos.groupby(['apartamento'])['atraso'].mean()\n",
        "\n",
        "# Visualizar el resultado\n",
        "media_atraso"
      ],
      "metadata": {
        "id": "wZ8SC4sTwkmq"
      },
      "execution_count": null,
      "outputs": []
    }
  ]
}