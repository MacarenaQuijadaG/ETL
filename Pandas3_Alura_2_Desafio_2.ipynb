{
  "nbformat": 4,
  "nbformat_minor": 0,
  "metadata": {
    "colab": {
      "provenance": [],
      "authorship_tag": "ABX9TyPysL61Od1sFL6yEpoQDFMf",
      "include_colab_link": true
    },
    "kernelspec": {
      "name": "python3",
      "display_name": "Python 3"
    },
    "language_info": {
      "name": "python"
    }
  },
  "cells": [
    {
      "cell_type": "markdown",
      "metadata": {
        "id": "view-in-github",
        "colab_type": "text"
      },
      "source": [
        "<a href=\"https://colab.research.google.com/github/MacarenaQuijadaG/ETL/blob/main/Pandas3_Alura_2_Desafio_2.ipynb\" target=\"_parent\"><img src=\"https://colab.research.google.com/assets/colab-badge.svg\" alt=\"Open In Colab\"/></a>"
      ]
    },
    {
      "cell_type": "markdown",
      "source": [
        "# **Desafío: trabajando en otros contextos**\n",
        "\n",
        "Pongamos nuevamente en práctica todo lo que aprendimos durante la clase. He puesto los 2 nuevos conjuntos de datos disponibles para descargar a continuación:\n",
        "\n",
        "**Proyecto Desafío 1: Ventas Online - dados_vendas_clientes.json;**\n",
        "**Proyecto Desafío 2: Administración de Condominios - dados_locacao_imoveis.json.**\n",
        "\n",
        "Recuerda: Hay dos proyectos de tratamiento que se construirán durante el curso. Así que guarde su código de construcción para cada desafío para poder aplicarlo a desafíos posteriores.\n",
        "\n",
        "Etapa 2\n",
        "\n",
        "Proyecto Desafío 1: Ventas Online\n",
        "Leímos la base de datos en el desafío anterior, ahora podemos seguir adelante con la transformación de estos datos. Así, el nuevo desafío del proyecto 1 será dividido en algunas metas:\n",
        "\n",
        "Eliminar datos en listas dentro del DataFrame;\n",
        "Verificar tipos de datos;\n",
        "Identificar columnas numéricas;\n",
        "Transformar la columna numérica a tipo numérico.\n",
        "Proyecto Desafío 2: Administración de Condominios\n",
        "Leímos la base de datos en el desafío anterior, ahora podemos seguir adelante con la transformación de estos datos. Entonces, de la misma manera que en el proyecto 1, el desafío del proyecto 2 está listado en algunas metas:\n",
        "\n",
        "Eliminar datos en listas dentro del DataFrame;\n",
        "Verificar tipos de datos;\n",
        "Identificar columnas numéricas;\n",
        "Transformar la columna numérica a tipo numérico."
      ],
      "metadata": {
        "id": "9iu_0plHt3fk"
      }
    },
    {
      "cell_type": "markdown",
      "source": [
        "**Desafio 1**"
      ],
      "metadata": {
        "id": "lD1Zfo0SuGRw"
      }
    },
    {
      "cell_type": "code",
      "execution_count": null,
      "metadata": {
        "id": "eolaPQ6Ft2tB"
      },
      "outputs": [],
      "source": [
        "# Colectar los valores de las columnas y verificar\n",
        "columnas = list(datos.columns)\n",
        "columnas\n",
        "\n",
        "# Destrincar las listas con explode\n",
        "datos = datos.explode(columnas[1:])\n",
        "# Resetear los index de las líneas\n",
        "datos.reset_index(drop=True,inplace=True)\n",
        "# Observar el DataFrame\n",
        "datos\n",
        "\n",
        "# Verificar los tipos de datos con info\n",
        "datos.info()\n",
        "\n",
        "# La columna numérica es el 'Valor da compra'\n",
        "datos['Valor da compra']\n",
        "\n",
        "# Iniciar la transformación\n",
        "# Import de la biblioteca numpy\n",
        "import numpy as np\n",
        "# Remover los textos presentes en la base\n",
        "# Cambiar las comas separadoras del decimal por punto\n",
        "datos['Valor da compra'] = datos['Valor da compra'].apply(lambda x: x.replace('R$ ', '').replace(',','.').strip())\n",
        "# Cambiar los tipo de datos para float\n",
        "datos['Valor da compra'] = datos['Valor da compra'].astype(np.float64)\n",
        "# Verificar la transformación\n",
        "datos.info()"
      ]
    },
    {
      "cell_type": "markdown",
      "source": [
        "**Desafio 2**"
      ],
      "metadata": {
        "id": "6cYo9L0suI-y"
      }
    },
    {
      "cell_type": "code",
      "source": [
        "# Colectar los valores de las columnas y verificar\n",
        "columnas = list(datos.columns)\n",
        "columnas\n",
        "\n",
        "# Destrincar las listas con explode\n",
        "datos = datos.explode(columnas[1:])\n",
        "# Resetear los index de las líneas\n",
        "datos.reset_index(drop=True,inplace=True)\n",
        "# Observar el DataFrame\n",
        "datos\n",
        "\n",
        "# Verificar los tipos de datos con info\n",
        "datos.info()\n",
        "\n",
        "# La columna numérica es el 'valor_aluguel'\n",
        "datos['valor_aluguel']\n",
        "\n",
        "# Iniciar la transformación\n",
        "# Import de la biblioteca numpy\n",
        "import numpy as np\n",
        "# Remover los textos presentes en la base\n",
        "# Cambiar las comas separadoras del decimal por punto\n",
        "datos['valor_aluguel'] = datos['valor_aluguel'].apply(lambda x: x.replace('$ ', '').replace(' reais', '').replace(',','.').strip())\n",
        "# Cambiar los tipos de datos para float\n",
        "datos['valor_aluguel'] = datos['valor_aluguel'].astype(np.float64)\n",
        "# Verificar la transformación\n",
        "datos.info()"
      ],
      "metadata": {
        "id": "4dQ2XnBduKwy"
      },
      "execution_count": null,
      "outputs": []
    }
  ]
}