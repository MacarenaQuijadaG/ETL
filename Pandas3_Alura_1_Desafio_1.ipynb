{
  "nbformat": 4,
  "nbformat_minor": 0,
  "metadata": {
    "colab": {
      "provenance": [],
      "authorship_tag": "ABX9TyOvufeMzsrV5hEzXzo4T/YU",
      "include_colab_link": true
    },
    "kernelspec": {
      "name": "python3",
      "display_name": "Python 3"
    },
    "language_info": {
      "name": "python"
    }
  },
  "cells": [
    {
      "cell_type": "markdown",
      "metadata": {
        "id": "view-in-github",
        "colab_type": "text"
      },
      "source": [
        "<a href=\"https://colab.research.google.com/github/MacarenaQuijadaG/ETL/blob/main/Pandas3_Alura_1_Desafio_1.ipynb\" target=\"_parent\"><img src=\"https://colab.research.google.com/assets/colab-badge.svg\" alt=\"Open In Colab\"/></a>"
      ]
    },
    {
      "cell_type": "markdown",
      "source": [
        "Desafío: trabajando en otros contextos\n",
        "\n",
        "Trabajando en otros contextos\n",
        "\n",
        "Ha llegado el momento de poner en práctica todo lo aprendido durante las clases. ¡Preparé dos proyectos adicionales para que los desarrollemos durante el curso, para asegurarnos de que podamos practicar mucho! Para ello trabajaremos con 2 nuevos conjuntos de datos, pero esta vez serán mucho más pequeños. Las bases de datos están disponibles para descargar aquí:\n",
        "\n",
        "**Proyecto Desafío 1: Ventas Online - dados_vendas_clientes.json;(https://cdn3.gnarususercontent.com.br/2928-transformacao-manipulacao-dados/dados_vendas_clientes.json)**\n",
        "\n",
        "**Proyecto Desafío 2: Administración de Condominios - dados_locacao_imoveis.json.(https://cdn3.gnarususercontent.com.br/2928-transformacao-manipulacao-dados/dados_locacao_imoveis.json)**\n",
        "\n",
        "En cada clase desarrollaremos una etapa de los proyectos. Así que guarde su código de construcción para cada desafío para poder aplicarlo en los desafíos posteriores.\n",
        "\n",
        "Etapa 1\n",
        "\n",
        "Proyecto Desafío 1: Ventas Online\n",
        "El objetivo de este proyecto es analizar los resultados de un evento con los clientes de una empresa de venta online. Se recopiló un conjunto de datos que contiene los clientes que más gastaron en productos durante los 5 días de ventas, que es la duración del evento. Este análisis identificará al cliente con la mayor compra esta semana, quien recibirá un premio de la tienda, y posteriormente, puede ayudar a la empresa a crear nuevas estrategias para atraer más clientes.\n",
        "\n",
        "La base de datos utilizada en este análisis es dados_vendas_clientes.json y contiene información importante sobre los clientes, como el nombre registrado del cliente, el monto total pagado al momento de la compra y el día de la compra.\n",
        "\n",
        "Sabiendo esta información, el desafío del proyecto 1: ventas online será abrir la base de datos con Pandas y aplicar json_normalize.\n",
        "\n",
        "Proyecto Desafío 2: Administración de Condominios\n",
        "Administrar condominios es una tarea que requiere mucha atención y organización. Entre las diversas responsabilidades de gestión se encuentra el cobro del alquiler a los inquilinos. Para garantizar la buena salud financiera de la empresa, es fundamental que estos pagos se realicen de forma regular y puntual. Sin embargo, sabemos que esto no siempre sucede.\n",
        "\n",
        "Teniendo esto en cuenta, propongo un desafío de procesamiento de datos con el objetivo de analizar el retraso en el pago del alquiler en el condominio de algunos residentes. Pongo a disposición la base de datos dados_locacao_imoveis.json, que contiene información sobre el departamento de los inquilinos, el día acordado para el pago del alquiler, el día en que se realiza el pago del alquiler y el monto del alquiler.\n",
        "\n",
        "Con esta información, el desafío del proyecto 2: administración del condominio será similar al desafío del proyecto 1, abrir la base de datos con Pandas y aplicar json_normalize al DataFrame."
      ],
      "metadata": {
        "id": "b2H2doxeqGnm"
      }
    },
    {
      "cell_type": "markdown",
      "source": [
        "**Desafio 1**"
      ],
      "metadata": {
        "id": "9njlW7TNqzgG"
      }
    },
    {
      "cell_type": "code",
      "execution_count": 1,
      "metadata": {
        "id": "rjWQtIKnqF46"
      },
      "outputs": [],
      "source": [
        "# Import de pandas\n",
        "import pandas as pd\n",
        "# Leer el archivo json con read_json\n",
        "datos = pd.read_json('/content/dados_vendas_clientes.json')\n",
        "# Aplicar json_normalize en la columna dados_vendas\n",
        "datos = pd.json_normalize(datos['dados_vendas'])\n",
        "# Mostrar valores\n",
        "datos"
      ]
    },
    {
      "cell_type": "markdown",
      "source": [
        "**Desafio 2**"
      ],
      "metadata": {
        "id": "GQ92f_Naq6K5"
      }
    },
    {
      "cell_type": "code",
      "source": [
        "# Import de pandas\n",
        "import pandas as pd\n",
        "# Leer el archivo json con read_json\n",
        "datos = pd.read_json('/content/dados_locacao_imoveis.json')\n",
        "# Aplicar json_normalize en la columna dados_locacao\n",
        "datos = pd.json_normalize(datos['dados_locacao'])\n",
        "# Mostrar valores\n",
        "datos"
      ],
      "metadata": {
        "id": "NCmzg1PRq6yj"
      },
      "execution_count": null,
      "outputs": []
    }
  ]
}